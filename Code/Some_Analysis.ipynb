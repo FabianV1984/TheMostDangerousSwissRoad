{
 "cells": [
  {
   "cell_type": "code",
   "execution_count": 3,
   "id": "d4262b4c",
   "metadata": {},
   "outputs": [],
   "source": [
    "#Wo geschehen die meisten tödlichen Strassenunfälle?\n",
    "#Einige Analysen\n",
    "import csv\n",
    "import pandas as pd\n",
    "import geopandas as gpd\n",
    "from shapely.geometry import Point, LineString"
   ]
  },
  {
   "cell_type": "code",
   "execution_count": 4,
   "id": "3deb9231",
   "metadata": {},
   "outputs": [],
   "source": [
    "df = pd.read_csv(\"RoadTrafficAccidentLocations.csv\")\n"
   ]
  },
  {
   "cell_type": "code",
   "execution_count": 5,
   "id": "90375266",
   "metadata": {},
   "outputs": [
    {
     "data": {
      "text/html": [
       "<div>\n",
       "<style scoped>\n",
       "    .dataframe tbody tr th:only-of-type {\n",
       "        vertical-align: middle;\n",
       "    }\n",
       "\n",
       "    .dataframe tbody tr th {\n",
       "        vertical-align: top;\n",
       "    }\n",
       "\n",
       "    .dataframe thead th {\n",
       "        text-align: right;\n",
       "    }\n",
       "</style>\n",
       "<table border=\"1\" class=\"dataframe\">\n",
       "  <thead>\n",
       "    <tr style=\"text-align: right;\">\n",
       "      <th></th>\n",
       "      <th>AccidentUID</th>\n",
       "      <th>AccidentType</th>\n",
       "      <th>AccidentType_de</th>\n",
       "      <th>AccidentType_fr</th>\n",
       "      <th>AccidentType_it</th>\n",
       "      <th>AccidentType_en</th>\n",
       "      <th>AccidentSeverityCategory</th>\n",
       "      <th>AccidentSeverityCategory_de</th>\n",
       "      <th>AccidentSeverityCategory_fr</th>\n",
       "      <th>AccidentSeverityCategory_it</th>\n",
       "      <th>...</th>\n",
       "      <th>AccidentMonth_fr</th>\n",
       "      <th>AccidentMonth_it</th>\n",
       "      <th>AccidentMonth_en</th>\n",
       "      <th>AccidentWeekDay</th>\n",
       "      <th>AccidentWeekDay_de</th>\n",
       "      <th>AccidentWeekDay_fr</th>\n",
       "      <th>AccidentWeekDay_it</th>\n",
       "      <th>AccidentWeekDay_en</th>\n",
       "      <th>AccidentHour</th>\n",
       "      <th>AccidentHour_text</th>\n",
       "    </tr>\n",
       "  </thead>\n",
       "  <tbody>\n",
       "    <tr>\n",
       "      <th>0</th>\n",
       "      <td>9FD6441F802C20A6E0430A865E3320A6</td>\n",
       "      <td>at0</td>\n",
       "      <td>Schleuder- oder Selbstunfall</td>\n",
       "      <td>dérapage ou perte de maîtrise</td>\n",
       "      <td>Incidente di sbandamento o per colpa propria</td>\n",
       "      <td>Accident with skidding or self-accident</td>\n",
       "      <td>as3</td>\n",
       "      <td>Unfall mit Leichtverletzten</td>\n",
       "      <td>accident avec blessés légers</td>\n",
       "      <td>Incidente con feriti leggeri</td>\n",
       "      <td>...</td>\n",
       "      <td>janvier</td>\n",
       "      <td>Gennaio</td>\n",
       "      <td>January</td>\n",
       "      <td>aw406</td>\n",
       "      <td>Samstag</td>\n",
       "      <td>samedi</td>\n",
       "      <td>Sabato</td>\n",
       "      <td>Saturday</td>\n",
       "      <td>1.0</td>\n",
       "      <td>01h-02h</td>\n",
       "    </tr>\n",
       "    <tr>\n",
       "      <th>1</th>\n",
       "      <td>99AE7B25356510B0E0430A865E3310B0</td>\n",
       "      <td>at4</td>\n",
       "      <td>Einbiegeunfall</td>\n",
       "      <td>accident en s'engageant sur une route</td>\n",
       "      <td>Incidente nell’immettersi in una strada</td>\n",
       "      <td>Accident when turning-into main road</td>\n",
       "      <td>as3</td>\n",
       "      <td>Unfall mit Leichtverletzten</td>\n",
       "      <td>accident avec blessés légers</td>\n",
       "      <td>Incidente con feriti leggeri</td>\n",
       "      <td>...</td>\n",
       "      <td>janvier</td>\n",
       "      <td>Gennaio</td>\n",
       "      <td>January</td>\n",
       "      <td>aw406</td>\n",
       "      <td>Samstag</td>\n",
       "      <td>samedi</td>\n",
       "      <td>Sabato</td>\n",
       "      <td>Saturday</td>\n",
       "      <td>1.0</td>\n",
       "      <td>01h-02h</td>\n",
       "    </tr>\n",
       "    <tr>\n",
       "      <th>2</th>\n",
       "      <td>9A096471BA579094E0430A865E339094</td>\n",
       "      <td>at00</td>\n",
       "      <td>Andere</td>\n",
       "      <td>autres</td>\n",
       "      <td>Altri</td>\n",
       "      <td>Other</td>\n",
       "      <td>as2</td>\n",
       "      <td>Unfall mit Schwerverletzten</td>\n",
       "      <td>accident avec blessés graves</td>\n",
       "      <td>Incidente con feriti gravi</td>\n",
       "      <td>...</td>\n",
       "      <td>janvier</td>\n",
       "      <td>Gennaio</td>\n",
       "      <td>January</td>\n",
       "      <td>aw406</td>\n",
       "      <td>Samstag</td>\n",
       "      <td>samedi</td>\n",
       "      <td>Sabato</td>\n",
       "      <td>Saturday</td>\n",
       "      <td>2.0</td>\n",
       "      <td>02h-03h</td>\n",
       "    </tr>\n",
       "  </tbody>\n",
       "</table>\n",
       "<p>3 rows × 36 columns</p>\n",
       "</div>"
      ],
      "text/plain": [
       "                        AccidentUID AccidentType  \\\n",
       "0  9FD6441F802C20A6E0430A865E3320A6          at0   \n",
       "1  99AE7B25356510B0E0430A865E3310B0          at4   \n",
       "2  9A096471BA579094E0430A865E339094         at00   \n",
       "\n",
       "                AccidentType_de                        AccidentType_fr  \\\n",
       "0  Schleuder- oder Selbstunfall          dérapage ou perte de maîtrise   \n",
       "1                Einbiegeunfall  accident en s'engageant sur une route   \n",
       "2                        Andere                                 autres   \n",
       "\n",
       "                                AccidentType_it  \\\n",
       "0  Incidente di sbandamento o per colpa propria   \n",
       "1       Incidente nell’immettersi in una strada   \n",
       "2                                         Altri   \n",
       "\n",
       "                           AccidentType_en AccidentSeverityCategory  \\\n",
       "0  Accident with skidding or self-accident                      as3   \n",
       "1     Accident when turning-into main road                      as3   \n",
       "2                                    Other                      as2   \n",
       "\n",
       "   AccidentSeverityCategory_de   AccidentSeverityCategory_fr  \\\n",
       "0  Unfall mit Leichtverletzten  accident avec blessés légers   \n",
       "1  Unfall mit Leichtverletzten  accident avec blessés légers   \n",
       "2  Unfall mit Schwerverletzten  accident avec blessés graves   \n",
       "\n",
       "    AccidentSeverityCategory_it  ... AccidentMonth_fr  AccidentMonth_it  \\\n",
       "0  Incidente con feriti leggeri  ...          janvier           Gennaio   \n",
       "1  Incidente con feriti leggeri  ...          janvier           Gennaio   \n",
       "2    Incidente con feriti gravi  ...          janvier           Gennaio   \n",
       "\n",
       "   AccidentMonth_en  AccidentWeekDay AccidentWeekDay_de AccidentWeekDay_fr  \\\n",
       "0           January            aw406            Samstag             samedi   \n",
       "1           January            aw406            Samstag             samedi   \n",
       "2           January            aw406            Samstag             samedi   \n",
       "\n",
       "  AccidentWeekDay_it AccidentWeekDay_en AccidentHour  AccidentHour_text  \n",
       "0             Sabato           Saturday          1.0            01h-02h  \n",
       "1             Sabato           Saturday          1.0            01h-02h  \n",
       "2             Sabato           Saturday          2.0            02h-03h  \n",
       "\n",
       "[3 rows x 36 columns]"
      ]
     },
     "execution_count": 5,
     "metadata": {},
     "output_type": "execute_result"
    }
   ],
   "source": [
    "df.head(3)"
   ]
  },
  {
   "cell_type": "code",
   "execution_count": 6,
   "id": "2107b72a",
   "metadata": {},
   "outputs": [
    {
     "data": {
      "text/plain": [
       "2011"
      ]
     },
     "execution_count": 6,
     "metadata": {},
     "output_type": "execute_result"
    }
   ],
   "source": [
    "#In diesem Jahr beginnt die Aufzeichnung\n",
    "df['AccidentYear'].min()"
   ]
  },
  {
   "cell_type": "code",
   "execution_count": 18,
   "id": "c7967497",
   "metadata": {},
   "outputs": [
    {
     "data": {
      "text/plain": [
       "Index(['AccidentUID', 'AccidentType', 'AccidentType_de', 'AccidentType_fr',\n",
       "       'AccidentType_it', 'AccidentType_en', 'AccidentSeverityCategory',\n",
       "       'AccidentSeverityCategory_de', 'AccidentSeverityCategory_fr',\n",
       "       'AccidentSeverityCategory_it', 'AccidentSeverityCategory_en',\n",
       "       'AccidentInvolvingPedestrian', 'AccidentInvolvingBicycle',\n",
       "       'AccidentInvolvingMotorcycle', 'RoadType', 'RoadType_de', 'RoadType_fr',\n",
       "       'RoadType_it', 'RoadType_en', 'AccidentLocation_CHLV95_E',\n",
       "       'AccidentLocation_CHLV95_N', 'CantonCode', 'MunicipalityCode',\n",
       "       'AccidentYear', 'AccidentMonth', 'AccidentMonth_de', 'AccidentMonth_fr',\n",
       "       'AccidentMonth_it', 'AccidentMonth_en', 'AccidentWeekDay',\n",
       "       'AccidentWeekDay_de', 'AccidentWeekDay_fr', 'AccidentWeekDay_it',\n",
       "       'AccidentWeekDay_en', 'AccidentHour', 'AccidentHour_text'],\n",
       "      dtype='object')"
      ]
     },
     "execution_count": 18,
     "metadata": {},
     "output_type": "execute_result"
    }
   ],
   "source": [
    "df.columns"
   ]
  },
  {
   "cell_type": "code",
   "execution_count": null,
   "id": "f1909da4",
   "metadata": {},
   "outputs": [],
   "source": [
    "df = df.drop(columns=['AccidentType_fr',\n",
    "       'AccidentType_it', 'AccidentType_en', 'AccidentSeverityCategory_fr',\n",
    "       'AccidentSeverityCategory_it', 'AccidentSeverityCategory_en', 'RoadType_fr',\n",
    "       'RoadType_it', 'RoadType_en', 'AccidentMonth_fr',\n",
    "       'AccidentMonth_it', 'AccidentMonth_en', 'AccidentWeekDay_fr', 'AccidentWeekDay_it',\n",
    "       'AccidentWeekDay_en'])"
   ]
  },
  {
   "cell_type": "code",
   "execution_count": 21,
   "id": "57537922",
   "metadata": {},
   "outputs": [
    {
     "data": {
      "text/plain": [
       "2020"
      ]
     },
     "execution_count": 21,
     "metadata": {},
     "output_type": "execute_result"
    }
   ],
   "source": [
    "#in diesem Jahr endet die Aufzeichnung\n",
    "df['AccidentYear'].max()"
   ]
  },
  {
   "cell_type": "code",
   "execution_count": 22,
   "id": "ab74a192",
   "metadata": {},
   "outputs": [
    {
     "data": {
      "text/plain": [
       "178217"
      ]
     },
     "execution_count": 22,
     "metadata": {},
     "output_type": "execute_result"
    }
   ],
   "source": [
    "#Zahl der Einträge weil jeder Eintrag mit Jahr angegeben ist\n",
    "df['AccidentYear'].count()"
   ]
  },
  {
   "cell_type": "code",
   "execution_count": 23,
   "id": "75f565d3",
   "metadata": {},
   "outputs": [
    {
     "data": {
      "text/plain": [
       "0         2011\n",
       "1         2011\n",
       "2         2011\n",
       "3         2011\n",
       "4         2011\n",
       "          ... \n",
       "178212    2020\n",
       "178213    2020\n",
       "178214    2020\n",
       "178215    2020\n",
       "178216    2020\n",
       "Name: AccidentYear, Length: 178217, dtype: int64"
      ]
     },
     "execution_count": 23,
     "metadata": {},
     "output_type": "execute_result"
    }
   ],
   "source": [
    "#Ist es chronologisch geordnet? Ja. \n",
    "df.AccidentYear"
   ]
  },
  {
   "cell_type": "code",
   "execution_count": 24,
   "id": "8bc26e39",
   "metadata": {},
   "outputs": [
    {
     "data": {
      "text/plain": [
       "2011    18990\n",
       "2012    18148\n",
       "2018    18033\n",
       "2014    17803\n",
       "2017    17799\n",
       "2019    17761\n",
       "2015    17736\n",
       "2016    17577\n",
       "2013    17473\n",
       "2020    16897\n",
       "Name: AccidentYear, dtype: int64"
      ]
     },
     "execution_count": 24,
     "metadata": {},
     "output_type": "execute_result"
    }
   ],
   "source": [
    "#Zahl der Strassenunfälle pro Jahr. Erfreulich: Noch nie waren es so wenige wie 2020. Evtl wegen Corona?\n",
    "df['AccidentYear'].value_counts()"
   ]
  },
  {
   "cell_type": "code",
   "execution_count": 14,
   "id": "5d46d369",
   "metadata": {},
   "outputs": [
    {
     "data": {
      "text/plain": [
       "at0     55801\n",
       "at2     36924\n",
       "at4     21682\n",
       "at8     20580\n",
       "at3     14443\n",
       "at5      8983\n",
       "at1      8330\n",
       "at6      6938\n",
       "at7      2268\n",
       "at00     1440\n",
       "at9       828\n",
       "Name: AccidentType, dtype: int64"
      ]
     },
     "execution_count": 14,
     "metadata": {},
     "output_type": "execute_result"
    }
   ],
   "source": [
    "#Welche Art von Unfall gab es wie oft? \n",
    "#Legende: \n",
    "#at0 Schleuder- oder Selbstunfall \n",
    "#at1 Überholunfall oder Fahrstreifenwechsel \n",
    "#at2 Auffahrunfall \n",
    "#at3 Abbiegeunfall \n",
    "#at4 Einbiegeunfall \n",
    "#at5 Überqueren der Fahrbahn \n",
    "#at6 Frontalkollision \n",
    "#at7 Parkierunfall \n",
    "#at8 Fussgängerunfall \n",
    "#at9 Tierunfall \n",
    "#at00 Andere\n",
    "\n",
    "UnfallTyp = df[\"AccidentType\"].value_counts().sort_values(ascending=False)\n",
    "UnfallTyp"
   ]
  },
  {
   "cell_type": "code",
   "execution_count": 12,
   "id": "d214c60d",
   "metadata": {},
   "outputs": [],
   "source": [
    "#Schleuder- oder Selbstunfälle gab es meisten, Unfälle mit Tiere am seltensten. Frage an mich: Unterschied zwischen Abbiege- und Einbiegeunfall? "
   ]
  },
  {
   "cell_type": "code",
   "execution_count": 13,
   "id": "26241f5f",
   "metadata": {},
   "outputs": [
    {
     "data": {
      "text/plain": [
       "as3    138868\n",
       "as2     36954\n",
       "as1      2395\n",
       "Name: AccidentSeverityCategory, dtype: int64"
      ]
     },
     "execution_count": 13,
     "metadata": {},
     "output_type": "execute_result"
    }
   ],
   "source": [
    "#Wie schwer waren die Unfälle?\n",
    "#Legende\n",
    "#as1 Unfall mit Getöteten\n",
    "#as2 Unfall mit Schwerverletzten\n",
    "#as3 Unfall mit Leichtverletzten\n",
    "df['AccidentSeverityCategory'].value_counts()"
   ]
  },
  {
   "cell_type": "code",
   "execution_count": 14,
   "id": "567afd96",
   "metadata": {},
   "outputs": [],
   "source": [
    "#Die meisten Unfälle gingen glücklicherweise glimpflich aus. Aber wo sind die Unfälle mit Sachschaden? "
   ]
  },
  {
   "cell_type": "code",
   "execution_count": 15,
   "id": "3d229353",
   "metadata": {},
   "outputs": [
    {
     "data": {
      "text/plain": [
       "rt432    89517\n",
       "rt433    64591\n",
       "rt430    16479\n",
       "rt439     5924\n",
       "rt431     1485\n",
       "rt434      221\n",
       "Name: RoadType, dtype: int64"
      ]
     },
     "execution_count": 15,
     "metadata": {},
     "output_type": "execute_result"
    }
   ],
   "source": [
    "#Auf welchen Strassen geschahen die Unfälle?\n",
    "df['RoadType'].value_counts()\n",
    "#rt430 Autobahn\n",
    "#rt431 Autostrasse\n",
    "#rt432 Hauptstrasse\n",
    "#rt433 Nebenstrasse\n",
    "#rt434 Autobahnnebenanlage\n",
    "#rt439 andere"
   ]
  },
  {
   "cell_type": "code",
   "execution_count": 16,
   "id": "7e4b8f21",
   "metadata": {},
   "outputs": [],
   "source": [
    "#Für mich überraschend: Auf der Autobahn gibt es deutlich weniger Unfälle als auf Haupt- und Nebenstrassen. Fahren Menschen vorsichtiger wenn sie schneller fahren? Evtl mit Verkehrsverkommen quervergleichen. \n",
    "\n"
   ]
  },
  {
   "cell_type": "code",
   "execution_count": 17,
   "id": "b889aa18",
   "metadata": {},
   "outputs": [
    {
     "data": {
      "text/plain": [
       "ZH    32178\n",
       "BE    25435\n",
       "VD    16690\n",
       "AG    11771\n",
       "GE    11131\n",
       "SG    10045\n",
       "LU     9788\n",
       "TI     8491\n",
       "SO     6219\n",
       "TG     5981\n",
       "FR     5472\n",
       "VS     5196\n",
       "GR     4876\n",
       "BL     4805\n",
       "BS     3529\n",
       "NE     2962\n",
       "SZ     2952\n",
       "ZG     2677\n",
       "SH     1650\n",
       "JU     1430\n",
       "UR     1088\n",
       "AR      964\n",
       "GL      922\n",
       "NW      868\n",
       "OW      792\n",
       "AI      305\n",
       "Name: CantonCode, dtype: int64"
      ]
     },
     "execution_count": 17,
     "metadata": {},
     "output_type": "execute_result"
    }
   ],
   "source": [
    "#In welchem Kanton gibt es am meisten Unfälle?\n",
    "df['CantonCode'].value_counts()"
   ]
  },
  {
   "cell_type": "code",
   "execution_count": 18,
   "id": "1f8e2ef8",
   "metadata": {},
   "outputs": [],
   "source": [
    "#Scheint auf den ersten Blick mit Einwohnerzahl vergleichbar, was Sinn macht. Evtl genauer anschauen. "
   ]
  },
  {
   "cell_type": "code",
   "execution_count": 19,
   "id": "8c2ef083",
   "metadata": {},
   "outputs": [
    {
     "data": {
      "text/plain": [
       "6     18903\n",
       "8     17753\n",
       "9     17672\n",
       "7     17160\n",
       "5     16603\n",
       "10    15461\n",
       "11    14114\n",
       "4     13911\n",
       "3     12655\n",
       "12    12249\n",
       "1     11375\n",
       "2     10361\n",
       "Name: AccidentMonth, dtype: int64"
      ]
     },
     "execution_count": 19,
     "metadata": {},
     "output_type": "execute_result"
    }
   ],
   "source": [
    "#Gibt es einen Monat, in dem besonders viele Unfälle passieren?\n",
    "df['AccidentMonth'].value_counts()"
   ]
  },
  {
   "cell_type": "code",
   "execution_count": 20,
   "id": "296dffab",
   "metadata": {},
   "outputs": [],
   "source": [
    "#Finde ich überraschend. Die meisten Unfälle passieren von Mai bis September. Nicht im Winter. Warum ist das so? Touristen? Kann man gut was machen \"Achtung, jetzt beginnt die Unfallsaison\", aber zuerst Gründe finden. "
   ]
  },
  {
   "cell_type": "code",
   "execution_count": 21,
   "id": "a4b417df",
   "metadata": {},
   "outputs": [
    {
     "data": {
      "text/plain": [
       "aw405    28986\n",
       "aw404    27397\n",
       "aw403    27360\n",
       "aw402    26790\n",
       "aw401    25521\n",
       "aw406    24190\n",
       "aw407    17973\n",
       "Name: AccidentWeekDay, dtype: int64"
      ]
     },
     "execution_count": 21,
     "metadata": {},
     "output_type": "execute_result"
    }
   ],
   "source": [
    "#Und wie sieht es bei den Wochentagen aus?\n",
    "#Legende\n",
    "#aw401 Montag \n",
    "#aw402 Dienstag \n",
    "#aw403 Mittwoch \n",
    "#aw404 Donnerstag \n",
    "#aw405 Freitag \n",
    "#aw406 Samstag \n",
    "#aw407 Sonntag\n",
    "df['AccidentWeekDay'].value_counts()"
   ]
  },
  {
   "cell_type": "code",
   "execution_count": 22,
   "id": "01cf346b",
   "metadata": {},
   "outputs": [],
   "source": [
    "#Die Sonntagsfahrer scheinen jedenfall sicherer zuf ahren als man annimmt. Warum am Freitag am meisten? Weil Leute schnell ins Weekend wollen? Oder nehmen mehr Leute das Auto um schneller zu Hause zu sein? "
   ]
  },
  {
   "cell_type": "code",
   "execution_count": 23,
   "id": "90d60bc5",
   "metadata": {},
   "outputs": [
    {
     "data": {
      "text/plain": [
       "17.0    19264\n",
       "16.0    15432\n",
       "18.0    13201\n",
       "15.0    12605\n",
       "14.0    11361\n",
       "13.0    11263\n",
       "7.0     10710\n",
       "12.0    10460\n",
       "11.0    10289\n",
       "10.0     7996\n",
       "8.0      7962\n",
       "19.0     7932\n",
       "9.0      7063\n",
       "6.0      7007\n",
       "20.0     4882\n",
       "21.0     3871\n",
       "22.0     3514\n",
       "23.0     2780\n",
       "5.0      2291\n",
       "0.0      2162\n",
       "1.0      1846\n",
       "2.0      1515\n",
       "4.0      1424\n",
       "3.0      1382\n",
       "Name: AccidentHour, dtype: int64"
      ]
     },
     "execution_count": 23,
     "metadata": {},
     "output_type": "execute_result"
    }
   ],
   "source": [
    "df['AccidentHour'].value_counts()"
   ]
  },
  {
   "cell_type": "markdown",
   "id": "4b574d2c",
   "metadata": {},
   "source": [
    "#Am frühen Abend/Nachmittag gibt es die meisten Unfälle. Evtl weil Menschen müde sind vom Arbeitstag?"
   ]
  },
  {
   "cell_type": "code",
   "execution_count": 24,
   "id": "c5f8af37",
   "metadata": {},
   "outputs": [
    {
     "data": {
      "text/plain": [
       "2011    4110\n",
       "2012    3867\n",
       "2013    3859\n",
       "2014    3818\n",
       "2018    3640\n",
       "2020    3619\n",
       "2015    3612\n",
       "2016    3548\n",
       "2019    3454\n",
       "2017    3427\n",
       "Name: AccidentYear, dtype: int64"
      ]
     },
     "execution_count": 24,
     "metadata": {},
     "output_type": "execute_result"
    }
   ],
   "source": [
    "#Aus diesen Daten lassen sich wohl einige spannende Dinge herauslesen. Zuerst interessiert mich, wie viele Unfälle es mit Schwerverletzten in welchem Jahr gab\n",
    "df[df['AccidentSeverityCategory'] == 'as2']['AccidentYear'].value_counts()"
   ]
  },
  {
   "cell_type": "code",
   "execution_count": 25,
   "id": "68640cd8",
   "metadata": {},
   "outputs": [
    {
     "data": {
      "text/plain": [
       "2011    312\n",
       "2012    301\n",
       "2013    257\n",
       "2015    238\n",
       "2014    229\n",
       "2018    228\n",
       "2020    224\n",
       "2017    219\n",
       "2016    208\n",
       "2019    179\n",
       "Name: AccidentYear, dtype: int64"
      ]
     },
     "execution_count": 25,
     "metadata": {},
     "output_type": "execute_result"
    }
   ],
   "source": [
    "#Und mit Getöteten?\n",
    "df[df['AccidentSeverityCategory'] == 'as1']['AccidentYear'].value_counts()"
   ]
  },
  {
   "cell_type": "code",
   "execution_count": 26,
   "id": "dd6b170c",
   "metadata": {},
   "outputs": [],
   "source": [
    "#Die schweren Unfälle scheinen also ebenfalls zurückzugehen. Für meine Auswertung will ich mich zuerst aufs Jahr 2020 beziehen. "
   ]
  },
  {
   "cell_type": "code",
   "execution_count": 27,
   "id": "d5c58faf",
   "metadata": {},
   "outputs": [
    {
     "data": {
      "text/plain": [
       "at0     1037\n",
       "at8      506\n",
       "at6      244\n",
       "at1      141\n",
       "at3      134\n",
       "at2      100\n",
       "at4       87\n",
       "at5       80\n",
       "at00      47\n",
       "at7       14\n",
       "at9        5\n",
       "Name: AccidentType, dtype: int64"
      ]
     },
     "execution_count": 27,
     "metadata": {},
     "output_type": "execute_result"
    }
   ],
   "source": [
    "#Nun möchte ich schauen, wie viele der Unfälle mit Getöteten welchem Unfalltypen entsprechen\n",
    "df[df['AccidentSeverityCategory'] == 'as1']['AccidentType'].value_counts()"
   ]
  },
  {
   "cell_type": "code",
   "execution_count": 28,
   "id": "40bfc4af",
   "metadata": {},
   "outputs": [],
   "source": [
    "#Am meisten Menschen sterben also bei einem Schleuder- oder Selbstunfall. Danach folgen Unfälle mit Fussgängern und Auffahrunfälle. Diese Unfälle mit Fussgängern dünken mich spannend, da will ich mehr wissen. "
   ]
  },
  {
   "cell_type": "code",
   "execution_count": 29,
   "id": "c41e408e",
   "metadata": {},
   "outputs": [
    {
     "data": {
      "text/plain": [
       "as3    14358\n",
       "as2     5716\n",
       "as1      506\n",
       "Name: AccidentSeverityCategory, dtype: int64"
      ]
     },
     "execution_count": 29,
     "metadata": {},
     "output_type": "execute_result"
    }
   ],
   "source": [
    "df[df['AccidentType'] == 'at8']['AccidentSeverityCategory'].value_counts()"
   ]
  },
  {
   "cell_type": "code",
   "execution_count": 30,
   "id": "49fefbd5",
   "metadata": {},
   "outputs": [],
   "source": [
    "#In den vergangenen 10 Jahren kam es also zu über 6000 Verkehrsunfällen, bei denen Fussgänger schwer verletzt oder getötet wurden. Wie viele waren es 2019?"
   ]
  },
  {
   "cell_type": "code",
   "execution_count": 31,
   "id": "bfd271ff",
   "metadata": {},
   "outputs": [],
   "source": [
    "#Mich interessiert nun speziell das aktuellste Jahr. Dass es weniger Unfälle gab als in den Vorjahren weiss ich bereits, aber die möchte ich im Detail anschauen. Ich exkludiere darum das Jahr 2020.\n",
    "df1 = df[df['AccidentYear'] == 2020]\n"
   ]
  },
  {
   "cell_type": "code",
   "execution_count": 32,
   "id": "ec0f71da",
   "metadata": {},
   "outputs": [
    {
     "data": {
      "text/plain": [
       "as3    1182\n",
       "as2     420\n",
       "as1      38\n",
       "Name: AccidentSeverityCategory, dtype: int64"
      ]
     },
     "execution_count": 32,
     "metadata": {},
     "output_type": "execute_result"
    }
   ],
   "source": [
    "#Fussgängerunfälle 2020\n",
    "df1[df1['AccidentType'] == 'at8']['AccidentSeverityCategory'].value_counts()   "
   ]
  },
  {
   "cell_type": "code",
   "execution_count": 25,
   "id": "5c2bfbbc",
   "metadata": {},
   "outputs": [
    {
     "data": {
      "text/plain": [
       "False    137214\n",
       "True      41003\n",
       "Name: AccidentInvolvingBicycle, dtype: int64"
      ]
     },
     "execution_count": 25,
     "metadata": {},
     "output_type": "execute_result"
    }
   ],
   "source": [
    "#Unfall mit Velobeteiligung – davon gab es über 40'000\n",
    "Velounfall = df[\"AccidentInvolvingBicycle\"].value_counts().sort_values(ascending=False)\n",
    "Velounfall"
   ]
  },
  {
   "cell_type": "code",
   "execution_count": 26,
   "id": "be25c9f2",
   "metadata": {},
   "outputs": [
    {
     "data": {
      "text/plain": [
       "False    141038\n",
       "True      37179\n",
       "Name: AccidentInvolvingMotorcycle, dtype: int64"
      ]
     },
     "execution_count": 26,
     "metadata": {},
     "output_type": "execute_result"
    }
   ],
   "source": [
    "#Unfall mit Töffbeteiligung\n",
    "unfallmittoeff = df[\"AccidentInvolvingMotorcycle\"].value_counts().sort_values(ascending=False)\n",
    "unfallmittoeff"
   ]
  },
  {
   "cell_type": "code",
   "execution_count": null,
   "id": "b8dadaba",
   "metadata": {},
   "outputs": [],
   "source": [
    "#Knapp weniger als Fahrräder. Gibt aber wohl im Verhältnis deutlich mehr Fahrräder als Motorräder, darum Velos eher sicherer?"
   ]
  },
  {
   "cell_type": "code",
   "execution_count": 27,
   "id": "07a66e18",
   "metadata": {},
   "outputs": [
    {
     "data": {
      "text/plain": [
       "Hauptstrasse    89517\n",
       "Nebenstrasse    64591\n",
       "Autobahn        16479\n",
       "andere           5924\n",
       "Autostrasse      1485\n",
       "Nebenanlage       221\n",
       "Name: RoadType_de, dtype: int64"
      ]
     },
     "execution_count": 27,
     "metadata": {},
     "output_type": "execute_result"
    }
   ],
   "source": [
    "#Unfälle nach Strassentypen – am meist\n",
    "Strassentyp = df[\"RoadType_de\"].value_counts().sort_values(ascending=False)\n",
    "Strassentyp"
   ]
  },
  {
   "cell_type": "code",
   "execution_count": null,
   "id": "1aa77cee",
   "metadata": {},
   "outputs": [],
   "source": [
    "#Auf Hauptstrassen gibt es die meisten Unfälle. Spannend: Nebenstrassen sind viel gefährlicher als Autobahnen. Sind Autostrassen so sicher weil es davon am wenigsten gibt?"
   ]
  }
 ],
 "metadata": {
  "kernelspec": {
   "display_name": "Python 3 (ipykernel)",
   "language": "python",
   "name": "python3"
  },
  "language_info": {
   "codemirror_mode": {
    "name": "ipython",
    "version": 3
   },
   "file_extension": ".py",
   "mimetype": "text/x-python",
   "name": "python",
   "nbconvert_exporter": "python",
   "pygments_lexer": "ipython3",
   "version": "3.10.2"
  }
 },
 "nbformat": 4,
 "nbformat_minor": 5
}
